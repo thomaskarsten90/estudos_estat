{
  "nbformat": 4,
  "nbformat_minor": 0,
  "metadata": {
    "colab": {
      "provenance": [],
      "authorship_tag": "ABX9TyMW+YGs2SFRdIZe4SYU8/QC",
      "include_colab_link": true
    },
    "kernelspec": {
      "name": "python3",
      "display_name": "Python 3"
    },
    "language_info": {
      "name": "python"
    }
  },
  "cells": [
    {
      "cell_type": "markdown",
      "metadata": {
        "id": "view-in-github",
        "colab_type": "text"
      },
      "source": [
        "<a href=\"https://colab.research.google.com/github/thomaskarsten90/estudos_estat/blob/main/estat_fundamentos.ipynb\" target=\"_parent\"><img src=\"https://colab.research.google.com/assets/colab-badge.svg\" alt=\"Open In Colab\"/></a>"
      ]
    },
    {
      "cell_type": "code",
      "execution_count": 2,
      "metadata": {
        "colab": {
          "base_uri": "https://localhost:8080/"
        },
        "id": "I8arKU7gfkHt",
        "outputId": "1bf634ba-90eb-493f-b2d3-8837fbc64e49"
      },
      "outputs": [
        {
          "output_type": "stream",
          "name": "stdout",
          "text": [
            "     renda  valor_fatura  dias_atraso  status_pagamento\n",
            "0  4496.71       1899.68            1                 1\n",
            "1  3861.74       1662.32            1                 1\n",
            "2  4647.69       1229.82            2                 1\n",
            "3  5523.03        876.53            3                 1\n",
            "4  3765.85       1549.11            3                 0\n",
            "             renda  valor_fatura  dias_atraso  status_pagamento\n",
            "count  1000.000000   1000.000000  1000.000000       1000.000000\n",
            "mean   4019.331930   1235.418230     1.990000          0.849000\n",
            "std     979.215747    498.727267     1.362996          0.358228\n",
            "min     758.730000   -270.190000     0.000000          0.000000\n",
            "25%    3352.412500    896.877500     1.000000          1.000000\n",
            "50%    4025.300000   1231.540000     2.000000          1.000000\n",
            "75%    4647.945000   1564.437500     3.000000          1.000000\n",
            "max    7852.730000   2796.550000     7.000000          1.000000\n"
          ]
        }
      ],
      "source": [
        "import pandas as pd\n",
        "import numpy as np\n",
        "\n",
        "np.random.seed(42)\n",
        "\n",
        "# Simulação de dataset de crédito\n",
        "n = 1000\n",
        "df = pd.DataFrame({\n",
        "    \"renda\": np.random.normal(4000, 1000, n).round(2),\n",
        "    \"valor_fatura\": np.random.normal(1200, 500, n).round(2),\n",
        "    \"dias_atraso\": np.random.poisson(2, n),\n",
        "    \"status_pagamento\": np.random.binomial(1, 0.85, n)  # 1=pago, 0=atraso\n",
        "})\n",
        "\n",
        "print(df.head())\n",
        "print(df.describe())\n"
      ]
    },
    {
      "cell_type": "code",
      "source": [
        "# Estatísticas descritivas\n",
        "stats_summary = {}\n",
        "for col in [\"renda\", \"valor_fatura\", \"dias_atraso\"]:\n",
        "    stats_summary[col] = {\n",
        "        \"Média\": df[col].mean(),\n",
        "        \"Mediana\": df[col].median(),\n",
        "        \"Moda\": df[col].mode().iloc[0],\n",
        "        \"Amplitude\": df[col].max() - df[col].min(),\n",
        "        \"Variância\": df[col].var(),\n",
        "        \"Desvio-Padrão\": df[col].std(),\n",
        "        \"IQR\": df[col].quantile(0.75) - df[col].quantile(0.25)\n",
        "    }\n",
        "\n",
        "resumo_df = pd.DataFrame(stats_summary).T\n",
        "print(\"Resumo Estatístico:\\n\")\n",
        "print(resumo_df)\n",
        "\n",
        "# Identificação das variáveis\n",
        "variaveis = {\n",
        "    \"renda\": \"Contínua\",\n",
        "    \"valor_fatura\": \"Contínua\",\n",
        "    \"dias_atraso\": \"Discreta\",\n",
        "    \"status_pagamento\": \"Nominal (binária: pago/atraso)\"\n",
        "}\n",
        "\n",
        "print(\"\\nClassificação das Variáveis:\\n\")\n",
        "for k, v in variaveis.items():\n",
        "    print(f\"{k}: {v}\")"
      ],
      "metadata": {
        "colab": {
          "base_uri": "https://localhost:8080/"
        },
        "id": "EUb42DCTSXsV",
        "outputId": "c266c613-9720-49b9-9f69-c8f70e676bfe"
      },
      "execution_count": 4,
      "outputs": [
        {
          "output_type": "stream",
          "name": "stdout",
          "text": [
            "Resumo Estatístico:\n",
            "\n",
            "                   Média  Mediana     Moda  Amplitude      Variância  \\\n",
            "renda         4019.33193  4025.30  2918.94    7094.00  958863.478245   \n",
            "valor_fatura  1235.41823  1231.54  1086.76    3066.74  248728.886392   \n",
            "dias_atraso      1.99000     2.00     2.00       7.00       1.857758   \n",
            "\n",
            "              Desvio-Padrão        IQR  \n",
            "renda            979.215747  1295.5325  \n",
            "valor_fatura     498.727267   667.5600  \n",
            "dias_atraso        1.362996     2.0000  \n",
            "\n",
            "Classificação das Variáveis:\n",
            "\n",
            "renda: Contínua\n",
            "valor_fatura: Contínua\n",
            "dias_atraso: Discreta\n",
            "status_pagamento: Nominal (binária: pago/atraso)\n"
          ]
        }
      ]
    }
  ]
}